{
 "cells": [
  {
   "cell_type": "code",
   "execution_count": 50,
   "metadata": {},
   "outputs": [],
   "source": [
    "import sys, os\n",
    "sys.path.append(os.pardir)\n",
    "import numpy as np\n",
    "import pickle\n",
    "import matplotlib.pylab as plt\n",
    "from dataset.mnist import load_mnist\n",
    "from common.functions import sigmoid, softmax\n",
    "from common.gradient import numerical_gradient"
   ]
  },
  {
   "cell_type": "code",
   "execution_count": 51,
   "metadata": {},
   "outputs": [],
   "source": [
    "def init_network():\n",
    "    with open(\"../ch03/sample_weight.pkl\", 'rb') as f:\n",
    "        network = pickle.load(f)\n",
    "    return network"
   ]
  },
  {
   "cell_type": "code",
   "execution_count": 52,
   "metadata": {},
   "outputs": [],
   "source": [
    "def predict(network, x):\n",
    "    w1, w2, w3 = network['W1'], network['W2'], network['W3']\n",
    "    b1, b2, b3 = network['b1'], network['b2'], network['b3']\n",
    "\n",
    "    a1 = np.dot(x, w1) + b1\n",
    "    z1 = sigmoid(a1)\n",
    "    a2 = np.dot(z1, w2) + b2\n",
    "    z2 = sigmoid(a2)\n",
    "    a3 = np.dot(z2, w3) + b3\n",
    "    y = softmax(a3)\n",
    "\n",
    "    return y"
   ]
  },
  {
   "cell_type": "markdown",
   "metadata": {},
   "source": [
    "### 미니배치 학습"
   ]
  },
  {
   "cell_type": "code",
   "execution_count": 53,
   "metadata": {},
   "outputs": [],
   "source": [
    "def cross_entropy_error(y, t):\n",
    "    if y.ndim == 1:\n",
    "        t = t.reshape(1, t.size)\n",
    "        y = y.reshape(1, y.size)\n",
    "        \n",
    "    # 훈련 데이터가 원-핫 벡터라면 정답 레이블의 인덱스로 반환\n",
    "    if t.size == y.size:\n",
    "        t = t.argmax(axis=1)\n",
    "             \n",
    "    batch_size = y.shape[0]\n",
    "    return -np.sum(np.log(y[np.arange(batch_size), t] + 1e-7)) / batch_size"
   ]
  },
  {
   "cell_type": "code",
   "execution_count": 54,
   "metadata": {},
   "outputs": [],
   "source": [
    "(x_train, t_train), (x_test, t_test) = load_mnist(normalize=True, one_hot_label=False)\n",
    "train_size = x_train.shape[0]\n",
    "batch_size = 10\n",
    "batch_mask = np.random.choice(train_size, batch_size)\n",
    "x_batch = x_train[batch_mask]\n",
    "t_batch = t_train[batch_mask]"
   ]
  },
  {
   "cell_type": "code",
   "execution_count": 55,
   "metadata": {},
   "outputs": [
    {
     "name": "stdout",
     "output_type": "stream",
     "text": [
      "(10, 784)\n",
      "(10,)\n"
     ]
    }
   ],
   "source": [
    "print(x_batch.shape)\n",
    "print(t_batch.shape)"
   ]
  },
  {
   "cell_type": "markdown",
   "metadata": {},
   "source": [
    "#### 인덱싱 연습"
   ]
  },
  {
   "cell_type": "code",
   "execution_count": 56,
   "metadata": {},
   "outputs": [
    {
     "name": "stdout",
     "output_type": "stream",
     "text": [
      "[[1.51576653e-01 4.76892892e-05 4.90672998e-02 1.99982151e-03\n",
      "  3.67826829e-03 7.69414455e-02 1.95938628e-02 3.17356375e-04\n",
      "  6.90841854e-01 5.93570806e-03]\n",
      " [1.22606580e-03 9.34315176e-05 8.88577633e-05 2.36538137e-04\n",
      "  7.98769361e-06 9.03464675e-01 9.84664730e-05 3.27837711e-06\n",
      "  9.47628543e-02 1.77614529e-05]\n",
      " [4.13948546e-05 1.31342473e-04 3.37805017e-03 2.37919652e-04\n",
      "  3.29992501e-04 3.26218619e-03 1.35761002e-04 2.07008125e-05\n",
      "  9.91555631e-01 9.07056383e-04]\n",
      " [4.14846836e-05 1.49030867e-03 9.87948850e-04 2.39041797e-03\n",
      "  1.36454284e-04 4.72249053e-02 1.10384601e-04 1.08946724e-05\n",
      "  9.47279394e-01 3.27794754e-04]\n",
      " [2.30843634e-05 5.55063691e-03 9.60738420e-01 2.67580766e-02\n",
      "  1.56095638e-07 2.05233868e-04 3.25571491e-05 4.55276750e-04\n",
      "  6.23405678e-03 2.47580306e-06]\n",
      " [4.97123547e-05 4.20737621e-07 5.11912185e-06 3.52276438e-05\n",
      "  4.16924513e-06 2.10774873e-04 8.42556425e-09 9.96492684e-01\n",
      "  6.29099122e-06 3.19554843e-03]\n",
      " [4.82841460e-05 8.40372013e-05 1.03920710e-03 9.95227456e-01\n",
      "  2.40395821e-06 1.63377996e-03 3.95808371e-07 4.62000789e-05\n",
      "  1.79222529e-03 1.26081170e-04]\n",
      " [4.92431376e-08 9.89932895e-01 2.72001605e-03 1.47304579e-03\n",
      "  1.08433633e-04 4.20556724e-04 1.14474366e-04 2.97455606e-03\n",
      "  2.03085667e-03 2.25203345e-04]\n",
      " [9.82336223e-01 2.25030035e-07 2.04504305e-03 4.74956934e-04\n",
      "  9.23196922e-07 1.47149116e-02 9.58301753e-05 8.00669732e-05\n",
      "  2.23482406e-04 2.84704274e-05]\n",
      " [8.08567347e-05 6.33945310e-05 6.78779150e-04 9.99091353e-05\n",
      "  4.56534835e-05 2.71729520e-03 1.02272606e-05 8.24679300e-05\n",
      "  9.89939988e-01 6.28146902e-03]]\n",
      "[0 1 2 3 4 5 6 7 8 9]\n",
      "[8 5 8 8 2 7 3 1 0 8]\n",
      "[0.69084185 0.9034647  0.99155563 0.9472794  0.9607384  0.9964927\n",
      " 0.99522746 0.9899329  0.9823362  0.98994   ]\n"
     ]
    }
   ],
   "source": [
    "network = init_network()\n",
    "y = predict(network, x_batch)\n",
    "arange = np.arange(batch_size)\n",
    "t = t_batch\n",
    "q = y[arange, t]\n",
    "print(y)\n",
    "print(arange)\n",
    "print(t)\n",
    "print(q)"
   ]
  },
  {
   "cell_type": "markdown",
   "metadata": {},
   "source": [
    "### 경사법"
   ]
  },
  {
   "cell_type": "markdown",
   "metadata": {},
   "source": [
    "####  x0^2 + x1^2 의 최솟값"
   ]
  },
  {
   "cell_type": "code",
   "execution_count": 57,
   "metadata": {},
   "outputs": [],
   "source": [
    "def function_2(x):\n",
    "    return x[0]**2 + x[1]**2"
   ]
  },
  {
   "cell_type": "code",
   "execution_count": 58,
   "metadata": {},
   "outputs": [],
   "source": [
    "def gradient_descent(f, init_x, lr=0.01, step_num=100):\n",
    "    x = init_x\n",
    "    x_history = []\n",
    "\n",
    "    for i in range(step_num):\n",
    "        x_history.append( x.copy() )\n",
    "\n",
    "        grad = numerical_gradient(f, x)\n",
    "        x -= lr * grad\n",
    "\n",
    "    return x, np.array(x_history)"
   ]
  },
  {
   "cell_type": "code",
   "execution_count": 59,
   "metadata": {},
   "outputs": [
    {
     "name": "stdout",
     "output_type": "stream",
     "text": [
      "[-6.11110793e-10  8.14814391e-10]\n"
     ]
    }
   ],
   "source": [
    "init_x = np.array([-3.0, 4.0])\n",
    "x, x_history = gradient_descent(function_2, init_x=init_x, lr=0.1, step_num=100)\n",
    "print(x)"
   ]
  },
  {
   "cell_type": "code",
   "execution_count": 60,
   "metadata": {},
   "outputs": [
    {
     "data": {
      "image/png": "[encoded data removed]",
      "text/plain": [
       "<Figure size 432x288 with 1 Axes>"
      ]
     },
     "metadata": {
      "needs_background": "light"
     },
     "output_type": "display_data"
    }
   ],
   "source": [
    "plt.plot( [-5, 5], [0,0], '--b')\n",
    "plt.plot( [0,0], [-5, 5], '--b')\n",
    "plt.plot(x_history[:,0], x_history[:,1], 'o')\n",
    "\n",
    "plt.xlim(-3.5, 3.5)\n",
    "plt.ylim(-4.5, 4.5)\n",
    "plt.xlabel(\"X0\")\n",
    "plt.ylabel(\"X1\")\n",
    "plt.show()"
   ]
  },
  {
   "cell_type": "markdown",
   "metadata": {},
   "source": [
    "### 신경망에서의 기울기"
   ]
  },
  {
   "cell_type": "code",
   "execution_count": 61,
   "metadata": {},
   "outputs": [],
   "source": [
    "class simpleNet:\n",
    "    def __init__(self):\n",
    "        self.W = np.random.randn(2,3) # 정규분포로 초기화\n",
    "\n",
    "    def predict(self, x):\n",
    "        return np.dot(x, self.W)\n",
    "\n",
    "    def loss(self, x, t):\n",
    "        z = self.predict(x)\n",
    "        y = softmax(z)\n",
    "        loss = cross_entropy_error(y, t)\n",
    "\n",
    "        return loss"
   ]
  },
  {
   "cell_type": "code",
   "execution_count": 62,
   "metadata": {},
   "outputs": [
    {
     "name": "stdout",
     "output_type": "stream",
     "text": [
      "[[ 1.1335665   0.5848084  -0.60728586]\n",
      " [-0.36587136 -1.18433887  0.41401769]]\n",
      "[ 0.35085568 -0.71501994  0.00824441]\n"
     ]
    },
    {
     "data": {
      "text/plain": [
       "1.0625657354141016"
      ]
     },
     "execution_count": 62,
     "metadata": {},
     "output_type": "execute_result"
    }
   ],
   "source": [
    "net = simpleNet()\n",
    "print(net.W) # 가중치 매개변수\n",
    "\n",
    "x = np.array([0.6, 0.9]) # 입력 데이터\n",
    "p = net.predict(x)\n",
    "print(p)\n",
    "np.argmax(p) # 최댓값의 인덱스\n",
    "\n",
    "t = np.array([0, 0, 1]) # 정답 레이블\n",
    "net.loss(x, t)"
   ]
  },
  {
   "cell_type": "code",
   "execution_count": 67,
   "metadata": {},
   "outputs": [
    {
     "name": "stdout",
     "output_type": "stream",
     "text": [
      "[[ 0.29207348  0.1005917  -0.39266518]\n",
      " [ 0.43811022  0.15088756 -0.58899777]]\n"
     ]
    }
   ],
   "source": [
    "f = lambda w: net.loss(x, t)\n",
    "dW = numerical_gradient(f, net.W)\n",
    "print(dW)"
   ]
  },
  {
   "cell_type": "code",
   "execution_count": null,
   "metadata": {},
   "outputs": [],
   "source": []
  }
 ],
 "metadata": {
  "kernelspec": {
   "display_name": "Python 3",
   "language": "python",
   "name": "python3"
  },
  "language_info": {
   "codemirror_mode": {
    "name": "ipython",
    "version": 3
   },
   "file_extension": ".py",
   "mimetype": "text/x-python",
   "name": "python",
   "nbconvert_exporter": "python",
   "pygments_lexer": "ipython3",
   "version": "3.7.0"
  }
 },
 "nbformat": 4,
 "nbformat_minor": 2
}
